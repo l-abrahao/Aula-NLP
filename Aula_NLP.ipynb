{
  "nbformat": 4,
  "nbformat_minor": 0,
  "metadata": {
    "colab": {
      "provenance": [],
      "authorship_tag": "ABX9TyN7+UguImWf9vy3HSDEz3nj",
      "include_colab_link": true
    },
    "kernelspec": {
      "name": "python3",
      "display_name": "Python 3"
    },
    "language_info": {
      "name": "python"
    }
  },
  "cells": [
    {
      "cell_type": "markdown",
      "metadata": {
        "id": "view-in-github",
        "colab_type": "text"
      },
      "source": [
        "<a href=\"https://colab.research.google.com/github/l-abrahao/Aula-NLP/blob/main/Aula_NLP.ipynb\" target=\"_parent\"><img src=\"https://colab.research.google.com/assets/colab-badge.svg\" alt=\"Open In Colab\"/></a>"
      ]
    },
    {
      "cell_type": "code",
      "execution_count": null,
      "metadata": {
        "id": "fHSeM-G5sxLl"
      },
      "outputs": [],
      "source": [
        "import os.path\n",
        "from matplotlib import pyplot as plt\n",
        "import numpy as np\n",
        "import pandas as pd\n",
        "import seaborn as sns"
      ]
    },
    {
      "cell_type": "code",
      "source": [
        "from gensim import corpora\n",
        "from gensim.models import LsiModel\n",
        "from gensim.models.coherencemodel import CoherenceModel"
      ],
      "metadata": {
        "id": "CWdznoQ3s2p2"
      },
      "execution_count": null,
      "outputs": []
    },
    {
      "cell_type": "code",
      "source": [
        "import nltk\n",
        "nltk.download('stopwords')\n",
        "from nltk.tokenize import RegexpTokenizer\n",
        "from nltk.corpus import stopwords\n",
        "from nltk.stem.porter import PorterStemmer"
      ],
      "metadata": {
        "colab": {
          "base_uri": "https://localhost:8080/"
        },
        "id": "tHAv53Cqs_IP",
        "outputId": "c56e45c4-d3da-43e3-f279-fddf29984b81"
      },
      "execution_count": null,
      "outputs": [
        {
          "output_type": "stream",
          "name": "stderr",
          "text": [
            "[nltk_data] Downloading package stopwords to /root/nltk_data...\n",
            "[nltk_data]   Unzipping corpora/stopwords.zip.\n"
          ]
        }
      ]
    },
    {
      "cell_type": "code",
      "source": [
        "def carregar_dados(path, nome_arq):\n",
        "  lista_doc = []\n",
        "  titulos = []\n",
        "\n",
        "  with open (os.path.join (path, nome_arq), \"r\") as fin:\n",
        "    for line in fin.readlines():\n",
        "      text = line.strip()\n",
        "      lista_doc.append(text)\n",
        "  titulos.append(text[0:min(len(text),100)])\n",
        "\n",
        "  return lista_doc, titulos\n"
      ],
      "metadata": {
        "id": "0vH2mVlPtuH5"
      },
      "execution_count": null,
      "outputs": []
    },
    {
      "cell_type": "code",
      "source": [
        "def proc_dados(doc_set):\n",
        "  tokenizer = RegexpTokenizer(r'\\w+') #inicia tokenizer regex\n",
        "  stop_words = set(stopwords.words('english'))#criar lista de stop words\n",
        "  ps = PorterStemmer() #cria p stemmer\n",
        "  texts = [] #lista de doc tokenizados\n",
        "\n",
        "#percorrer a lista de doc\n",
        "  for i in doc_set:\n",
        "    #limpar e tokenizar string do doc\n",
        "    raw = i.lower()\n",
        "    tokens = tokenizer.tokenize(raw)\n",
        "\n",
        "    #remover stop words de tokens\n",
        "    stopped_tokens = [i for i in tokens if not i in stop_words]\n",
        "    stemmed_tokens = [ps.stem(i) for i in stopped_tokens]\n",
        "\n",
        "    #add tokens a lista\n",
        "    texts.append(stemmed_tokens)\n",
        "\n",
        "  return texts\n"
      ],
      "metadata": {
        "id": "TbZWuG8xwIqf"
      },
      "execution_count": null,
      "outputs": []
    },
    {
      "cell_type": "code",
      "source": [
        "def prep_corpus(doc_prep):\n",
        "  #cria dicionário de termos para o corpus, cada termo atribuido a um indice\n",
        "  dictionary = corpora.Dictionary(doc_prep)\n",
        "\n",
        "  #converte o corpus em matriz\n",
        "  corpus = [dictionary.doc2bow(text) for text in doc_prep]\n",
        "\n",
        "  return dictionary, corpus"
      ],
      "metadata": {
        "id": "4M_PVGNcx1Gh"
      },
      "execution_count": null,
      "outputs": []
    },
    {
      "cell_type": "code",
      "source": [
        "def modelo_lsa (doc_prep, qtd_topicos, words):\n",
        "  dictionary, corpus = prep_corpus(doc_prep)\n",
        "\n",
        "  #cria modelo LSA\n",
        "  lsamodel = LsiModel(corpus, num_topics = qtd_topicos, id2word = dictionary) #train model\n",
        "  print(lsamodel.print_topics(num_topics = qtd_topicos, num_words = words))\n",
        "\n",
        "  return lsamodel"
      ],
      "metadata": {
        "id": "_60BZbvxz_oW"
      },
      "execution_count": null,
      "outputs": []
    },
    {
      "cell_type": "code",
      "source": [
        "def calc_coerencia(dictionary, corpus, doc_prep, stop, start = 2, step = 3):\n",
        "  valor_coerencia = []\n",
        "  model_list = []\n",
        "\n",
        "  for qtd_topicos in range(start, stop, step):\n",
        "\n",
        "    #gera modelo LSA\n",
        "    model = LsiModel(corpus, num_topics = qtd_topicos, id2word = dictionary)\n",
        "\n",
        "    #modelo de treinamento\n",
        "    model_list.append(model)\n",
        "    coherence_model = CoherenceModel(model = model, texts = doc_prep, dictionary = dictionary)\n",
        "    valor_coerencia.append(coherence_model.get_coherence())\n",
        "\n",
        "  return model_list, valor_coerencia\n"
      ],
      "metadata": {
        "id": "HbaN2f061P_R"
      },
      "execution_count": null,
      "outputs": []
    },
    {
      "cell_type": "code",
      "source": [
        "def plot(doc_prep, start, stop, step):\n",
        "  dictionary,corpus = prep_corpus(doc_prep)\n",
        "  model_list, valor_coerencia = calc_coerencia(dictionary, corpus, doc_prep, stop, start, step)\n",
        "\n",
        "  #plot graph\n",
        "  x = range(start, stop, step)\n",
        "  plt.plot(x, valor_coerencia)\n",
        "  plt.xlabel(\"Número de Tópicos\")\n",
        "  plt.ylabel(\"Score de Coerência\")\n",
        "  plt.legend((\"valor_coerencia\"), loc='best')\n",
        "  plt.show()"
      ],
      "metadata": {
        "id": "qKAhckIr3lAJ"
      },
      "execution_count": null,
      "outputs": []
    },
    {
      "cell_type": "code",
      "source": [
        "qtdd_topicos = 4\n",
        "words = 10\n",
        "lista_doc, titulos = carregar_dados (\"\",\"/content/noticias.txt\")\n",
        "limpar_texto = proc_dados(lista_doc)\n",
        "modelo = modelo_lsa(limpar_texto, qtdd_topicos, words)\n",
        "\n",
        "start, stop, step = 2,4,1\n",
        "plot(limpar_texto, start, stop, step)"
      ],
      "metadata": {
        "colab": {
          "base_uri": "https://localhost:8080/",
          "height": 488
        },
        "id": "y_WsvkSF4ylw",
        "outputId": "51da64fb-a317-4bc8-fe65-5e188f200e59"
      },
      "execution_count": null,
      "outputs": [
        {
          "output_type": "stream",
          "name": "stdout",
          "text": [
            "[(0, '-0.395*\"point\" + -0.269*\"first\" + -0.250*\"final\" + -0.212*\"quarter\" + -0.203*\"nba\" + -0.200*\"buck\" + -0.188*\"sun\" + -0.172*\"antetokounmpo\" + -0.156*\"player\" + -0.134*\"said\"'), (1, '-0.363*\"vaccin\" + -0.328*\"mask\" + -0.289*\"school\" + -0.171*\"student\" + -0.169*\"19\" + -0.160*\"guidanc\" + -0.157*\"covid\" + -0.150*\"univers\" + -0.149*\"effect\" + -0.144*\"recommend\"'), (2, '0.313*\"everi\" + -0.299*\"point\" + 0.279*\"day\" + 0.270*\"embrac\" + 0.270*\"champion\" + 0.239*\"final\" + -0.224*\"quarter\" + 0.182*\"made\" + 0.177*\"get\" + 0.152*\"play\"'), (3, '-0.553*\"fire\" + -0.264*\"deploy\" + -0.202*\"said\" + -0.195*\"oregon\" + -0.184*\"mobil\" + -0.140*\"tuesday\" + -0.136*\"time\" + -0.135*\"season\" + -0.119*\"mani\" + -0.107*\"acr\"')]\n"
          ]
        },
        {
          "output_type": "display_data",
          "data": {
            "text/plain": [
              "<Figure size 640x480 with 1 Axes>"
            ],
            "image/png": "[encoded data removed]"
          },
          "metadata": {}
        }
      ]
    }
  ]
}